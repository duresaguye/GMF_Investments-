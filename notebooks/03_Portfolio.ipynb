{
 "cells": [
  {
   "cell_type": "code",
   "execution_count": null,
   "metadata": {
    "vscode": {
     "languageId": "plaintext"
    }
   },
   "outputs": [],
   "source": [
    "\n",
    "\n",
    "mu = expected_returns.mean_historical_return(data)\n",
    "S = risk_models.sample_cov(data)\n",
    "\n",
    "# Optimize for max Sharpe Ratio\n",
    "ef_opt = EfficientFrontier(mu, S)\n",
    "weights = ef_opt.max_sharpe()\n",
    "cleaned_weights = ef_opt.clean_weights()\n",
    "\n",
    "# Print optimized weights\n",
    "print(\"Optimized Portfolio Weights:\")\n",
    "for k, v in cleaned_weights.items():\n",
    "    print(f\"{k}: {100*v:.2f}%\")\n",
    "\n",
    "# Create a SECOND ef instance for plotting (do not optimize this one)\n",
    "ef_plot = EfficientFrontier(mu, S)\n",
    "\n",
    "# Plot Efficient Frontier\n",
    "fig, ax = plt.subplots(figsize=(15, 10))\n",
    "plot_efficient_frontier(ef_plot, ax=ax, show_assets=True)\n",
    "plt.title('Efficient Frontier')\n",
    "plt.tight_layout()\n",
    "\n",
    "# Plot asset allocation\n",
    "plt.figure(figsize=(15, 10))\n",
    "plt.pie(cleaned_weights.values(), labels=cleaned_weights.keys(), autopct='%1.1f%%')\n",
    "plt.title('Optimized Portfolio Weights')\n",
    "plt.tight_layout()"
   ]
  }
 ],
 "metadata": {
  "language_info": {
   "name": "python"
  }
 },
 "nbformat": 4,
 "nbformat_minor": 2
}
