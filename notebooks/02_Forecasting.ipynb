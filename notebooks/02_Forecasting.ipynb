{
 "cells": [
  {
   "cell_type": "code",
   "execution_count": null,
   "metadata": {
    "vscode": {
     "languageId": "plaintext"
    }
   },
   "outputs": [],
   "source": [
    "# LSTM Forecasting (AAPL)\n",
    "import numpy as np\n",
    "from sklearn.preprocessing import MinMaxScaler\n",
    "import tensorflow as tf\n",
    "data = data['Close']\n",
    "# Prepare data\n",
    "scaler = MinMaxScaler()\n",
    "scaled_data = scaler.fit_transform(data['AAPL'].values.reshape(-1,1))\n",
    "\n",
    "# Create sequences\n",
    "def create_sequences(data, window=60):\n",
    "    X, y = [], []\n",
    "    for i in range(len(data)-window):\n",
    "        X.append(data[i:i+window])\n",
    "        y.append(data[i+window])\n",
    "    return np.array(X), np.array(y)\n",
    "\n",
    "X, y = create_sequences(scaled_data)\n",
    "X_train, X_test = X[:-60], X[-60:]\n",
    "y_train, y_test = y[:-60], y[-60:]\n",
    "\n",
    "# Build LSTM model\n",
    "model = tf.keras.Sequential([\n",
    "    tf.keras.layers.LSTM(50, return_sequences=True, input_shape=(X_train.shape[1], 1)),\n",
    "    tf.keras.layers.LSTM(50),\n",
    "    tf.keras.layers.Dense(1)\n",
    "])\n",
    "model.compile(optimizer='adam', loss='mse')\n",
    "\n",
    "# Train\n",
    "history = model.fit(X_train, y_train, epochs=50, batch_size=32,\n",
    "                   validation_split=0.2, verbose=0)\n",
    "\n",
    "# Plot training loss\n",
    "plt.plot(history.history['loss'], label='Train Loss')\n",
    "plt.plot(history.history['val_loss'], label='Validation Loss')\n",
    "plt.title('LSTM Training Progress')\n",
    "plt.legend()\n",
    "plt.show()\n",
    "\n",
    "# Predict\n",
    "lstm_forecast = model.predict(X_test)\n",
    "lstm_forecast = scaler.inverse_transform(lstm_forecast).flatten()\n",
    "\n",
    "# Plot LSTM results\n",
    "plt.figure(figsize=(12,6))\n",
    "plt.plot(data['AAPL'].index[-60:], data['AAPL'][-60:], label='Actual')\n",
    "plt.plot(data['AAPL'].index[-60:], lstm_forecast, label='LSTM Forecast', linestyle='--')\n",
    "plt.title('AAPL Stock Price Forecast (LSTM)')\n",
    "plt.legend()\n",
    "plt.show()\n"
   ]
  }
 ],
 "metadata": {
  "language_info": {
   "name": "python"
  }
 },
 "nbformat": 4,
 "nbformat_minor": 2
}
