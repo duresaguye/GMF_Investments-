{
 "cells": [
  {
   "cell_type": "code",
   "execution_count": null,
   "metadata": {
    "vscode": {
     "languageId": "plaintext"
    }
   },
   "outputs": [],
   "source": [
    "\n",
    "# EXPLORATORY DATA ANALYSIS\n",
    "# Calculate daily returns\n",
    "returns = prices.pct_change().dropna()\n",
    "\n",
    "# Plot the price trends\n",
    "plt.figure(figsize=(15, 10))\n",
    "for asset in assets:\n",
    "    plt.plot(prices.index, prices[asset]/prices[asset].iloc[0], label=asset)\n",
    "plt.title('Normalized Price Trends')\n",
    "plt.ylabel('Normalized Price')\n",
    "plt.xlabel('Date')\n",
    "plt.legend()\n",
    "plt.tight_layout()\n",
    "\n",
    "# Plote teh change percentage\n",
    "plt.figure(figsize=(15,10))\n",
    "for ticker in assets:\n",
    "    plt.plot(returns.index, returns[ticker], label=ticker)\n",
    "plt.title(\"Daily Percentage Change\")\n",
    "plt.xlabel(\"Date\")\n",
    "plt.ylabel(\"Daily Return\")\n",
    "plt.legend()\n",
    "plt.tight_layout()\n",
    "\n",
    "\n",
    "# Calculate and display key statistics\n",
    "print(\"\\nSummary statistics of daily returns:\")\n",
    "summary_stats = returns.describe().T\n",
    "summary_stats['annualized_return'] = returns.mean() * 252\n",
    "summary_stats['annualized_volatility'] = returns.std() * np.sqrt(252)\n",
    "summary_stats['sharpe_ratio'] = summary_stats['annualized_return'] / summary_stats['annualized_volatility']\n",
    "print(summary_stats[['annualized_return', 'annualized_volatility', 'sharpe_ratio']])\n"
   ]
  }
 ],
 "metadata": {
  "language_info": {
   "name": "python"
  }
 },
 "nbformat": 4,
 "nbformat_minor": 2
}
